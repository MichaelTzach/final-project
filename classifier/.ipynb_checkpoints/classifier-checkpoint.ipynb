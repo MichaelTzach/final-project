{
 "cells": [
  {
   "cell_type": "markdown",
   "metadata": {},
   "source": [
    "# Text Analysis #"
   ]
  },
  {
   "cell_type": "markdown",
   "metadata": {},
   "source": [
    "We have 3 csv files, one for each category we gathered (Wikipedia, Trip advisor blogs, BBC Articles).\n",
    "\n",
    "Reading the data using Pandas library:"
   ]
  },
  {
   "cell_type": "code",
   "execution_count": 115,
   "metadata": {},
   "outputs": [],
   "source": [
    "import pandas as pd       \n",
    "wiki = pd.read_csv(\"../gather/wikipediaSummaries.csv\", header=0, delimiter=\"\\t\", quoting=3, encoding=\"ISO-8859-1\")\n",
    "bbc = pd.read_csv(\"../gather/bbcArticls.csv\", header=0, delimiter=\"\\t\", quoting=3, encoding=\"ISO-8859-1\")\n",
    "trip = pd.read_csv(\"../gather/tripAdvisorBlogPosts.csv\", header=0, delimiter=\"\\t\", quoting=3, encoding=\"ISO-8859-1\")"
   ]
  },
  {
   "cell_type": "code",
   "execution_count": 113,
   "metadata": {},
   "outputs": [],
   "source": [
    "wiki = wiki.iloc[:,1]\n",
    "bbc = bbc.iloc[:,1]\n",
    "trip = trip.iloc[:,1]"
   ]
  },
  {
   "cell_type": "code",
   "execution_count": 107,
   "metadata": {},
   "outputs": [],
   "source": [
    "wiki['class'] = 1\n",
    "bbc['class'] = 2\n",
    "trip['class'] = 3"
   ]
  },
  {
   "cell_type": "code",
   "execution_count": 119,
   "metadata": {},
   "outputs": [],
   "source": [
    "ss=1"
   ]
  },
  {
   "cell_type": "markdown",
   "metadata": {},
   "source": [
    "merging the 3 files into one train set:"
   ]
  },
  {
   "cell_type": "code",
   "execution_count": 108,
   "metadata": {},
   "outputs": [],
   "source": [
    "frames = [wiki, bbc, trip]\n",
    "train = pd.concat(frames, ignore_index=True)"
   ]
  },
  {
   "cell_type": "markdown",
   "metadata": {},
   "source": [
    "Now we'll iterate over the data set and process the texts.\n",
    "\n",
    "The proccessing includes: removing non-letters chars, convert to lower case and removing stop words."
   ]
  },
  {
   "cell_type": "code",
   "execution_count": 96,
   "metadata": {},
   "outputs": [],
   "source": [
    "import re\n",
    "from nltk.corpus import stopwords"
   ]
  },
  {
   "cell_type": "code",
   "execution_count": 97,
   "metadata": {},
   "outputs": [],
   "source": [
    "for k,v in train.items():\n",
    "    letters_only = re.sub(\"[^a-zA-Z]\", \" \", v)\n",
    "    words = letters_only.lower().split()\n",
    "    stops = set(stopwords.words(\"english\"))\n",
    "    meaningful_words = [w for w in words if not w in stops]\n",
    "    train.iloc[k] = \" \".join(meaningful_words)"
   ]
  },
  {
   "cell_type": "markdown",
   "metadata": {},
   "source": [
    "## Creating data structure ##"
   ]
  },
  {
   "cell_type": "markdown",
   "metadata": {},
   "source": [
    "Let's create data structure from the texts:"
   ]
  },
  {
   "cell_type": "code",
   "execution_count": 104,
   "metadata": {},
   "outputs": [],
   "source": [
    "from sklearn.feature_extraction.text import CountVectorizer\n",
    "vectorizer = CountVectorizer(analyzer = \"word\", tokenizer = None, preprocessor = None, stop_words = None, max_features = 5000)"
   ]
  },
  {
   "cell_type": "code",
   "execution_count": 105,
   "metadata": {},
   "outputs": [],
   "source": [
    "train = vectorizer.fit_transform(train)\n",
    "train = train.toarray()"
   ]
  },
  {
   "cell_type": "markdown",
   "metadata": {},
   "source": [
    "sample of the words in the data:"
   ]
  },
  {
   "cell_type": "code",
   "execution_count": 106,
   "metadata": {},
   "outputs": [
    {
     "name": "stdout",
     "output_type": "stream",
     "text": [
      "['abandoned', 'abbey', 'abbreviated', 'abi', 'abilities', 'ability', 'able', 'abound', 'absence', 'absent', 'absolutely', 'abstract', 'abstracted', 'abstraction', 'abstractions', 'abuse', 'academics', 'accept', 'acceptance', 'accepted', 'accepting', 'accepts', 'access', 'accessed', 'accesses', 'accessible', 'accessing', 'accessor', 'accessors', 'accidentally', 'accio', 'acclaimed', 'accommodations', 'accomplished', 'according', 'accordingly', 'account', 'accused', 'achieve', 'achieved', 'acm', 'acquired', 'acquiring', 'acquisition', 'acre', 'acres', 'across', 'act', 'acting', 'action']\n"
     ]
    }
   ],
   "source": [
    "vocab = vectorizer.get_feature_names()\n",
    "print(vocab[0:50])"
   ]
  },
  {
   "cell_type": "code",
   "execution_count": null,
   "metadata": {},
   "outputs": [],
   "source": []
  }
 ],
 "metadata": {
  "kernelspec": {
   "display_name": "Python 3",
   "language": "python",
   "name": "python3"
  },
  "language_info": {
   "codemirror_mode": {
    "name": "ipython",
    "version": 3
   },
   "file_extension": ".py",
   "mimetype": "text/x-python",
   "name": "python",
   "nbconvert_exporter": "python",
   "pygments_lexer": "ipython3",
   "version": "3.6.4"
  }
 },
 "nbformat": 4,
 "nbformat_minor": 2
}
